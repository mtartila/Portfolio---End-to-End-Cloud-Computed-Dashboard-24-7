{
 "cells": [
  {
   "cell_type": "code",
   "execution_count": 7,
   "id": "cfc17a30",
   "metadata": {},
   "outputs": [
    {
     "name": "stdout",
     "output_type": "stream",
     "text": [
      "Pivoted data saved to stock_price_pivot.csv\n"
     ]
    }
   ],
   "source": [
    "import pandas as pd\n",
    "\n",
    "# File paths for the CSV files\n",
    "files = {\n",
    "    \"GOOGL\": \"GOOGL.csv\",\n",
    "    \"AMZN\": \"AMZN.csv\",\n",
    "    \"AAPL\": \"AAPL.csv\",\n",
    "    \"MSFT\": \"MSFT.csv\"\n",
    "}\n",
    "\n",
    "# Dictionary to store dataframes\n",
    "dfs = {}\n",
    "\n",
    "# Read each CSV file into a dataframe\n",
    "for stock, file in files.items():\n",
    "    df = pd.read_csv(file)\n",
    "    df['symbol'] = stock  # Ensure the symbol column is named consistently\n",
    "    dfs[stock] = df\n",
    "\n",
    "# Concatenate all dataframes into one\n",
    "combined_df = pd.concat(dfs.values())\n",
    "\n",
    "# Pivot the dataframe to have close prices in separate columns for each stock\n",
    "pivot_df = combined_df.pivot_table(index='Date', columns='symbol', values='Close')\n",
    "\n",
    "# Rename the columns to have the format \"close_MSFT\", \"close_AMZN\", etc.\n",
    "pivot_df.columns = [f\"close_{col}\" for col in pivot_df.columns]\n",
    "\n",
    "# Reset index to make 'Date' a column\n",
    "pivot_df.reset_index(inplace=True)\n",
    "\n",
    "\n"
   ]
  },
  {
   "cell_type": "code",
   "execution_count": 10,
   "id": "faf7d7ab",
   "metadata": {},
   "outputs": [],
   "source": [
    "pivot_df.dropna(inplace=True)"
   ]
  },
  {
   "cell_type": "code",
   "execution_count": 12,
   "id": "2f88213d",
   "metadata": {},
   "outputs": [
    {
     "name": "stdout",
     "output_type": "stream",
     "text": [
      "Pivoted data saved to stock_price_pivot.csv\n"
     ]
    }
   ],
   "source": [
    "# Save the pivoted dataframe to a new CSV file\n",
    "pivot_df.to_csv(\"stock_price_pivot.csv\", index=False)\n",
    "\n",
    "print(\"Pivoted data saved to stock_price_pivot.csv\")"
   ]
  },
  {
   "cell_type": "code",
   "execution_count": null,
   "id": "499d9bf1",
   "metadata": {},
   "outputs": [],
   "source": []
  }
 ],
 "metadata": {
  "kernelspec": {
   "display_name": "Python 3 (ipykernel)",
   "language": "python",
   "name": "python3"
  },
  "language_info": {
   "codemirror_mode": {
    "name": "ipython",
    "version": 3
   },
   "file_extension": ".py",
   "mimetype": "text/x-python",
   "name": "python",
   "nbconvert_exporter": "python",
   "pygments_lexer": "ipython3",
   "version": "3.8.12"
  }
 },
 "nbformat": 4,
 "nbformat_minor": 5
}
